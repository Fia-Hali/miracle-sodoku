{
  "cells": [
    {
      "cell_type": "markdown",
      "metadata": {
        "id": "-rnkCP9R2o_Z"
      },
      "source": [
        "# Introduction\n",
        "\n",
        "All student names in group: Fia Hali, Andi Chen\n",
        "\n",
        "I understand that my submission needs to be my own group's work: FH, AC\n",
        "\n",
        "I understand that ChatGPT / Copilot / other AI tools are not allowed: FH, AC\n",
        "\n",
        "Points: 10\n",
        "\n",
        "Complete this notebook and submit it (save/print as pdf). Make sure all output is correct in the pdf before submitting (it sometimes gets cut off). The notebook needs to be a complete project report with your implementation, documentation including a short discussion of how your implementation works and your design choices, and experimental results (e.g., tables and charts with simulation results) with a short discussion of what they mean. Use the provided notebook cells and insert additional code and markdown cells as needed."
      ]
    },
    {
      "cell_type": "markdown",
      "metadata": {
        "id": "wdtvm8lB2o_b"
      },
      "source": [
        "## Z3 and Z3py resources\n",
        "\n",
        "For this problem you will be solving constraint satisfaction and logic problems using the Z3 SMT solver via the z3py python library.\n",
        "\n",
        "The demo code using z3py we went over in class is here: [link](https://drive.google.com/drive/folders/16HQXiwdcaman1IpC7H6vSJ71QQQ-aL2z?usp=sharing)\n",
        "\n",
        "Online help for z3py is here: [link](https://ericpony.github.io/z3py-tutorial/guide-examples.htm)"
      ]
    },
    {
      "cell_type": "markdown",
      "metadata": {
        "id": "F6mYrFaM2o_b"
      },
      "source": [
        "## Installation\n",
        "\n",
        "We first install to get the z3solver library using pip and test that works."
      ]
    },
    {
      "cell_type": "code",
      "source": [
        "!pip install z3-solver"
      ],
      "metadata": {
        "id": "EoLs1AWw38Tj",
        "outputId": "adc8c14d-b03e-4d9b-a483-5bd41a77e043",
        "colab": {
          "base_uri": "https://localhost:8080/"
        }
      },
      "execution_count": null,
      "outputs": [
        {
          "output_type": "stream",
          "name": "stdout",
          "text": [
            "Collecting z3-solver\n",
            "  Downloading z3_solver-4.13.0.0-py2.py3-none-manylinux2014_x86_64.whl (57.3 MB)\n",
            "\u001b[2K     \u001b[90m━━━━━━━━━━━━━━━━━━━━━━━━━━━━━━━━━━━━━━━━\u001b[0m \u001b[32m57.3/57.3 MB\u001b[0m \u001b[31m13.5 MB/s\u001b[0m eta \u001b[36m0:00:00\u001b[0m\n",
            "\u001b[?25hInstalling collected packages: z3-solver\n",
            "Successfully installed z3-solver-4.13.0.0\n"
          ]
        }
      ]
    },
    {
      "cell_type": "code",
      "execution_count": null,
      "metadata": {
        "id": "xnQTztNX2o_c",
        "outputId": "f53fb4b2-3e33-44b3-a72a-151a763c8607",
        "colab": {
          "base_uri": "https://localhost:8080/"
        }
      },
      "outputs": [
        {
          "output_type": "stream",
          "name": "stdout",
          "text": [
            "[y = 0, x = 7]\n"
          ]
        }
      ],
      "source": [
        "# Run the first example from the z3py guide as a test: https://ericpony.github.io/z3py-tutorial/guide-examples.htm\n",
        "from z3 import *\n",
        "\n",
        "x = Int('x')\n",
        "y = Int('y')\n",
        "solve(x > 2, y < 10, x + 2*y == 7)"
      ]
    },
    {
      "cell_type": "markdown",
      "source": [
        "# Sudoku as a constraint satisfaction problem (CSP)\n",
        "\n",
        "Sudoku is a popular number-placement puzzle that originated in France in the end of the 19th century.  Modern Sudoku was likely invented by Howard Garns from Connersville, Indiana and was first published in 1979 under the name *Number Place*. The objective of the puzzle is to place numbers 1-9 on a 9$\\times$9 grid, such that each number occurs only once in every row, every column, and every of the nine 3$\\times$3 sub-grids that compose the main grid.\n",
        "Sudoku puzzles are grids that have been partially occupied with numbers. The task is then to occupy the remaining fields in such a way that the constraints on rows, columns, and sub-grids are satisfied.\n",
        "For more information about Sudoku refer to its Wikipedia page at http://en.wikipedia.org/wiki/Sudoku.\n",
        "\n",
        "This problem has two parts. In the first part, you will write the boolean constraints in mathematical notation for solving a Sudoku puzzle. In the second part, you will write code and invoke the Z3 solver to solve the Sudoku instance and answer various questions about the solution.\n",
        "\n",
        "## Part 1 (Constraints)\n",
        "In text, define and write constraints over **boolean** variables corresponding to each number being in each cell. For example, you may use $X_{i,j}^k$ as teh variable that is true if and only if the number $k$ is in row $i$ and column $j$ (the variable is true if $k$ is in cell $(i, j)$ and false otherwise). Now write the following boolean constaints over these variables:\n",
        "\n",
        "* Write the boolean formula for the constraints that the number 5 can occur at most once in the first row. **(1 point)**\n",
        "* Write the boolean formula for the constraints that the number 6 can occur at most once in the first column. **(1 point)**\n",
        "* Write the boolean formula for the constraints that the number 9 can occur at most once in the top left 3$\\times$3 sub-grid. **(1 point)**"
      ],
      "metadata": {
        "id": "9J3lpQvP52jm"
      }
    },
    {
      "cell_type": "markdown",
      "source": [
        "Solution:"
      ],
      "metadata": {
        "id": "ju3Q1ewW7aeu"
      }
    },
    {
      "cell_type": "markdown",
      "source": [
        "1. number 5 occur at most once in the first row:\n",
        "At most one of $X_{0,j}^5$ is true for j=range(9),  \n",
        "~($X_{0,0}^5$ ⋀ $X_{0,1}^5$) ⋀ ~($X_{0,0}^5$ ⋀ $X_{0,2}^5$)... ~($X_{0,0}^5$ ⋀ $X_{0,8}^5$) ⋀     \n",
        "~($X_{0,1}^5$ ⋀ $X_{0,2}^5$) ⋀ ~($X_{0,1}^5$ ⋀ $X_{0,3}^5$)... ~($X_{0,1}^5$ ⋀ $X_{0,8}^5$)⋀    \n",
        "...     \n",
        "~($X_{0,7}^5$ ⋀ $X_{0,8}^5$)\n",
        "\n",
        "2. number 6 occur at most once in the first column:\n",
        "At most one of $X_{i,0}^6$ is true for i=range(9),  \n",
        "~($X_{0,0}^6$ ⋀ $X_{1,0}^6$) ⋀ ~($X_{0,0}^6$ ⋀ $X_{2,0}^6$)... ~($X_{0,0}^6$ ⋀ $X_{8,0}^6$) ⋀     \n",
        "~($X_{1,0}^6$ ⋀ $X_{2,0}^6$) ⋀ ~($X_{1,0}^6$ ⋀ $X_{3,0}^6$)... ~($X_{1,0}^6$ ⋀ $X_{8,0}^6$)⋀    \n",
        "...     \n",
        "~($X_{7,0}^6$ ⋀ $X_{8,0}^6$)\n",
        "\n",
        "\n",
        "3. number 9 occur at most once in the top left sub grid:\n",
        "At most one of $X_{i,j}^9$ is true for i,j=range(3),  \n",
        "~($X_{0,0}^9$ ⋀ $X_{0,1}^9$) ⋀ ~($X_{0,0}^9$ ⋀ $X_{0,2}^9$)⋀ ~($X_{0,1}^9$ ⋀ $X_{0,2}^9$) ⋀    \n",
        "~($X_{1,0}^9$ ⋀ $X_{1,1}^9$) ⋀ ~($X_{1,0}^9$ ⋀ $X_{1,2}^9$)⋀ ~($X_{1,1}^9$ ⋀ $X_{1,2}^9$) ⋀      \n",
        "~($X_{2,0}^9$ ⋀ $X_{2,1}^9$) ⋀ ~($X_{2,0}^9$ ⋀ $X_{2,2}^9$)⋀ ~($X_{2,1}^9$ ⋀ $X_{2,2}^9$)\n"
      ],
      "metadata": {
        "id": "BwcjFA9KeQli"
      }
    },
    {
      "cell_type": "markdown",
      "source": [
        "## Part 2 (Coding)\n",
        "\n",
        "Encode the above constraints and all the other ones as a CSP using z3py and solve the Sudoku instance given in the figure below. **Use only boolean variables** and do not use the **Distinct** function.\n",
        "\n",
        "* Provide the code to solve that solves the given problem instance using z3py and only boolean variables. The code should output a reasonable visualization of the solution, for example printed in text. **(1 points)**\n",
        "\n",
        "<img src=\"https://raw.githubusercontent.com/stanleybak/CS7320-AI/master/Knowledge-based/sudoku1.jpg\" width=\"400\"/>\n",
        "\n"
      ],
      "metadata": {
        "id": "y7kArKLH7eOR"
      }
    },
    {
      "cell_type": "code",
      "source": [
        "from z3 import *\n",
        "\n",
        "def solve_sudoku_bool(instance):\n",
        "    solver = Solver()\n",
        "\n",
        "    grid = [[[Bool(\"cell_%d_%d_%d\" % (i, j, d+1)) for d in range(9)] for j in range(9)] for i in range(9)]\n",
        "\n",
        "    # Each cell must contain exactly one number\n",
        "    for i in range(9):\n",
        "        for j in range(9):\n",
        "            solver.add(PbEq([(grid[i][j][d], 1) for d in range(9)], 1))\n",
        "\n",
        "    # Each row must contain each number exactly once\n",
        "    for d in range(9):\n",
        "        for i in range(9):\n",
        "            solver.add(PbEq([(grid[i][j][d], 1) for j in range(9)], 1))\n",
        "\n",
        "    # Each column must contain each number exactly once\n",
        "    for d in range(9):\n",
        "        for j in range(9):\n",
        "            solver.add(PbEq([(grid[i][j][d], 1) for i in range(9)], 1))\n",
        "\n",
        "    # Each 3x3 square must contain each number exactly once\n",
        "    for d in range(9):\n",
        "        for x in range(3):\n",
        "            for y in range(3):\n",
        "                solver.add(PbEq([(grid[3*x + i][3*y + j][d], 1) for i in range(3) for j in range(3)], 1))\n",
        "\n",
        "    # Encoding the initial state of the Sudoku puzzle\n",
        "    for i in range(9):\n",
        "        for j in range(9):\n",
        "            if instance[i][j] != 0:\n",
        "                d = instance[i][j] - 1\n",
        "                solver.add(grid[i][j][d])\n",
        "\n",
        "    if solver.check() == sat:\n",
        "        m = solver.model()\n",
        "        r = [[0 for j in range(9)] for i in range(9)]\n",
        "        for i in range(9):\n",
        "            for j in range(9):\n",
        "                for d in range(9):\n",
        "                    if is_true(m[grid[i][j][d]]):\n",
        "                        r[i][j] = d + 1\n",
        "                        break\n",
        "        print_matrix(r)\n",
        "    else:\n",
        "        print(\"Failed to solve\")\n",
        "\n",
        "instance = (\n",
        "    (0, 1, 0, 4, 0, 2, 0, 5, 0),\n",
        "    (5, 0, 0, 0, 0, 0, 0, 0, 6),\n",
        "    (0, 0, 0, 3, 0, 1, 0, 0, 0),\n",
        "    (7, 0, 5, 0, 0, 0, 4, 0, 8),\n",
        "    (0, 0, 0, 0, 0, 0, 0, 0, 0),\n",
        "    (2, 0, 8, 0, 0, 0, 5, 0, 9),\n",
        "    (0, 0, 0, 9, 0, 6, 0, 0, 0),\n",
        "    (6, 0, 0, 0, 0, 0, 0, 0, 2),\n",
        "    (0, 7, 0, 1, 0, 3, 0, 4, 0)\n",
        ")\n",
        "\n",
        "solve_sudoku_bool(instance)\n"
      ],
      "metadata": {
        "id": "UghnVSTS-kJi",
        "colab": {
          "base_uri": "https://localhost:8080/"
        },
        "outputId": "9ef8c662-804c-485c-b794-6d8268b3931c"
      },
      "execution_count": null,
      "outputs": [
        {
          "output_type": "stream",
          "name": "stdout",
          "text": [
            "[[3, 1, 9, 4, 6, 2, 8, 5, 7],\n",
            " [5, 2, 4, 7, 9, 8, 1, 3, 6],\n",
            " [8, 6, 7, 3, 5, 1, 9, 2, 4],\n",
            " [7, 3, 5, 2, 1, 9, 4, 6, 8],\n",
            " [1, 9, 6, 8, 4, 5, 2, 7, 3],\n",
            " [2, 4, 8, 6, 3, 7, 5, 1, 9],\n",
            " [4, 5, 3, 9, 2, 6, 7, 8, 1],\n",
            " [6, 8, 1, 5, 7, 4, 3, 9, 2],\n",
            " [9, 7, 2, 1, 8, 3, 6, 4, 5]]\n"
          ]
        }
      ]
    },
    {
      "cell_type": "markdown",
      "source": [
        "### Uniqueness\n",
        "Is your solution unique? Prove it with a Z3py solver or provide a second solution. **(1 point)**"
      ],
      "metadata": {
        "id": "FIkg9eI38VMG"
      }
    },
    {
      "cell_type": "code",
      "source": [
        "from z3 import *\n",
        "\n",
        "def check_solution_uniqueness(instance):\n",
        "    solver = Solver()\n",
        "\n",
        "    grid = [[[Bool(f\"cell_{i}_{j}_{d+1}\") for d in range(9)] for j in range(9)] for i in range(9)]\n",
        "\n",
        "    # Each cell must hold exactly one value\n",
        "    for i in range(9):\n",
        "        for j in range(9):\n",
        "            solver.add(PbEq([(grid[i][j][d], 1) for d in range(9)], 1))\n",
        "\n",
        "    # Each number must appear exactly once in each row, column, and 3x3 block\n",
        "    for d in range(9):\n",
        "        for i in range(9):\n",
        "            solver.add(PbEq([(grid[i][j][d], 1) for j in range(9)], 1))\n",
        "        for j in range(9):\n",
        "            solver.add(PbEq([(grid[i][j][d], 1) for i in range(9)], 1))\n",
        "        for x in range(3):\n",
        "            for y in range(3):\n",
        "                solver.add(PbEq([(grid[3*x + i][3*y + j][d], 1) for i in range(3) for j in range(3)], 1))\n",
        "\n",
        "    # Apply the instance constraints\n",
        "    for i in range(9):\n",
        "        for j in range(9):\n",
        "            if instance[i][j] != 0:\n",
        "                d = instance[i][j] - 1\n",
        "                solver.add(grid[i][j][d])\n",
        "\n",
        "\n",
        "    assert solver.check() == sat\n",
        "    model = solver.model()\n",
        "    solution1 = [[0 for j in range(9)] for i in range(9)]\n",
        "    for i in range(9):\n",
        "        for j in range(9):\n",
        "            for d in range(9):\n",
        "                if is_true(model[grid[i][j][d]]):\n",
        "                    solution1[i][j] = d + 1\n",
        "\n",
        "    # Add a constraint to prevent this solution from occurring again\n",
        "    solver.add(Or([Not(grid[i][j][solution1[i][j]-1]) for i in range(9) for j in range(9)]))\n",
        "\n",
        "\n",
        "    if solver.check() == sat:\n",
        "        print(\"A second solution exists, so the solution is not unique.\")\n",
        "    else:\n",
        "        print(\"The solution is unique.\")\n",
        "\n",
        "    return solution1\n",
        "\n",
        "\n",
        "instance = (\n",
        "    (0, 1, 0, 4, 0, 2, 0, 5, 0),\n",
        "    (5, 0, 0, 0, 0, 0, 0, 0, 6),\n",
        "    (0, 0, 0, 3, 0, 1, 0, 0, 0),\n",
        "    (7, 0, 5, 0, 0, 0, 4, 0, 8),\n",
        "    (0, 0, 0, 0, 0, 0, 0, 0, 0),\n",
        "    (2, 0, 8, 0, 0, 0, 5, 0, 9),\n",
        "    (0, 0, 0, 9, 0, 6, 0, 0, 0),\n",
        "    (6, 0, 0, 0, 0, 0, 0, 0, 2),\n",
        "    (0, 7, 0, 1, 0, 3, 0, 4, 0)\n",
        ")\n",
        "\n",
        "unique_solution = check_solution_uniqueness(instance)\n",
        "print_matrix(unique_solution)\n"
      ],
      "metadata": {
        "id": "-ZacX6gz-4os",
        "colab": {
          "base_uri": "https://localhost:8080/"
        },
        "outputId": "f88e5c5d-3c49-405d-d6cd-be29892c3b3f"
      },
      "execution_count": null,
      "outputs": [
        {
          "output_type": "stream",
          "name": "stdout",
          "text": [
            "The solution is unique.\n",
            "[[3, 1, 9, 4, 6, 2, 8, 5, 7],\n",
            " [5, 2, 4, 7, 9, 8, 1, 3, 6],\n",
            " [8, 6, 7, 3, 5, 1, 9, 2, 4],\n",
            " [7, 3, 5, 2, 1, 9, 4, 6, 8],\n",
            " [1, 9, 6, 8, 4, 5, 2, 7, 3],\n",
            " [2, 4, 8, 6, 3, 7, 5, 1, 9],\n",
            " [4, 5, 3, 9, 2, 6, 7, 8, 1],\n",
            " [6, 8, 1, 5, 7, 4, 3, 9, 2],\n",
            " [9, 7, 2, 1, 8, 3, 6, 4, 5]]\n"
          ]
        }
      ]
    },
    {
      "cell_type": "markdown",
      "source": [
        "### More Uniqueness\n",
        "If you delete the 1 in the top left box of the Sudoku problem above, how many unique solutions are there? Hint: should be less than 5000. **(1 point)**"
      ],
      "metadata": {
        "id": "Z6a18s5x-5Hw"
      }
    },
    {
      "cell_type": "code",
      "source": [
        "## It would be 200 solutions\n",
        "from z3 import *\n",
        "\n",
        "def solve_sudoku_bool(instance):\n",
        "    solver = Solver()\n",
        "\n",
        "    grid = [[[Bool(\"cell_%d_%d_%d\" % (i, j, d+1)) for d in range(9)] for j in range(9)] for i in range(9)]\n",
        "\n",
        "    # Each cell must contain exactly one number\n",
        "    for i in range(9):\n",
        "        for j in range(9):\n",
        "            solver.add(PbEq([(grid[i][j][d], 1) for d in range(9)], 1))\n",
        "\n",
        "    #  Each row must contain each number exactly once\n",
        "    for d in range(9):\n",
        "        for i in range(9):\n",
        "            solver.add(PbEq([(grid[i][j][d], 1) for j in range(9)], 1))\n",
        "\n",
        "    #  Each column must contain each number exactly once\n",
        "    for d in range(9):\n",
        "        for j in range(9):\n",
        "            solver.add(PbEq([(grid[i][j][d], 1) for i in range(9)], 1))\n",
        "\n",
        "    #  Each 3x3 square must contain each number exactly once\n",
        "    for d in range(9):\n",
        "        for x in range(3):\n",
        "            for y in range(3):\n",
        "                solver.add(PbEq([(grid[3*x + i][3*y + j][d], 1) for i in range(3) for j in range(3)], 1))\n",
        "\n",
        "    # Encoding the initial state of the Sudoku puzzle\n",
        "    for i in range(9):\n",
        "        for j in range(9):\n",
        "            if instance[i][j] != 0:\n",
        "                d = instance[i][j] - 1  # Adjusting index for 0-based indexing\n",
        "                solver.add(grid[i][j][d])\n",
        "\n",
        "\n",
        "    solution_count = 0\n",
        "    solutions = []\n",
        "    while solution_count < 5000 and solver.check() == sat:\n",
        "        model = solver.model()\n",
        "        current_solution = [[0 for j in range(9)] for i in range(9)]\n",
        "        # Extracting the solution from the model\n",
        "        for i in range(9):\n",
        "            for j in range(9):\n",
        "                for d in range(9):\n",
        "                    if is_true(model[grid[i][j][d]]):\n",
        "                        current_solution[i][j] = d + 1\n",
        "                        break\n",
        "        solutions.append(current_solution)\n",
        "\n",
        "\n",
        "        new_constraints = [grid[i][j][current_solution[i][j] - 1] != model[grid[i][j][current_solution[i][j] - 1]]\n",
        "                        for i in range(9) for j in range(9)]\n",
        "        solver.add(Or(new_constraints))\n",
        "\n",
        "        solution_count += 1\n",
        "\n",
        "    return solution_count\n",
        "\n",
        "\n",
        "instance = (\n",
        "    (0, 0, 0, 4, 0, 2, 0, 5, 0),\n",
        "    (5, 0, 0, 0, 0, 0, 0, 0, 6),\n",
        "    (0, 0, 0, 3, 0, 1, 0, 0, 0),\n",
        "    (7, 0, 5, 0, 0, 0, 4, 0, 8),\n",
        "    (0, 0, 0, 0, 0, 0, 0, 0, 0),\n",
        "    (2, 0, 8, 0, 0, 0, 5, 0, 9),\n",
        "    (0, 0, 0, 9, 0, 6, 0, 0, 0),\n",
        "    (6, 0, 0, 0, 0, 0, 0, 0, 2),\n",
        "    (0, 7, 0, 1, 0, 3, 0, 4, 0)\n",
        ")\n",
        "\n",
        "count = solve_sudoku_bool(instance)\n",
        "print(f\"Number of unique solutions: {count}\")"
      ],
      "metadata": {
        "id": "5_2fNgND_CB4",
        "colab": {
          "base_uri": "https://localhost:8080/"
        },
        "outputId": "fc09829c-40f9-49fa-d69b-b974b4f407f6"
      },
      "execution_count": null,
      "outputs": [
        {
          "output_type": "stream",
          "name": "stdout",
          "text": [
            "Number of unique solutions: 200\n"
          ]
        }
      ]
    },
    {
      "cell_type": "markdown",
      "source": [
        "# Miracle Sudoku\n",
        "\n",
        "Using z3py and only boolean variables, solve the Miracle Sudoku ([spoiler](https://www.youtube.com/watch?v=yKf9aUIxdb4)).\n",
        "In this puzzle normal Sudoku rules apply in addition to the following rules:\n",
        "* Any two cells separated by a knight's move from chess (moving forward two boxes and over one, in any direction) cannot contain the same digit (see image below).\n",
        "* Any two cells separated by a king's move from chess (one box in any direction including diagonals) cannot contain the same digit.\n",
        "* Any two orthogonally adjacent (up, down, left, or right) cells cannot contain consecutive digits."
      ],
      "metadata": {
        "id": "6nF9g7Ca_SJ1"
      }
    },
    {
      "cell_type": "markdown",
      "source": [
        "### Knight's move constraint image\n",
        "<img src=\"https://raw.githubusercontent.com/stanleybak/CS7320-AI/master/Knowledge-based/knights.jpg\" width=\"400\"/>\n",
        "\n",
        "The knight's move constraint would mean the yellow boxes cannot contain a 1.\n"
      ],
      "metadata": {
        "id": "wwjCVYCiAKXq"
      }
    },
    {
      "cell_type": "markdown",
      "source": [
        "## Miracle Sudoku Starting Information\n",
        "Provide the code to solve the puzzle given below. The code should output a reasonable visualization of the solution, for example using text. **(2 points)**\n",
        "\n",
        "<img src=\"https://raw.githubusercontent.com/stanleybak/CS7320-AI/master/Knowledge-based/miracle.jpg\" width=\"400\"/>"
      ],
      "metadata": {
        "id": "S9P6BThtAMv3"
      }
    },
    {
      "cell_type": "code",
      "source": [
        "from z3 import *\n",
        "\n",
        "def solve_sudoku_miracle(instance):\n",
        "    solver = Solver()\n",
        "\n",
        "    grid = [[[Bool(\"cell_%d_%d_%d\" % (i, j, d+1)) for d in range(9)] for j in range(9)] for i in range(9)]\n",
        "\n",
        "    # Each cell must contain exactly one number\n",
        "    for i in range(9):\n",
        "        for j in range(9):\n",
        "            solver.add(PbEq([(grid[i][j][d], 1) for d in range(9)], 1))\n",
        "\n",
        "    #  Each row must contain each number exactly once\n",
        "    for d in range(9):\n",
        "        for i in range(9):\n",
        "            solver.add(PbEq([(grid[i][j][d], 1) for j in range(9)], 1))\n",
        "\n",
        "    #  Each column must contain each number exactly once\n",
        "    for d in range(9):\n",
        "        for j in range(9):\n",
        "            solver.add(PbEq([(grid[i][j][d], 1) for i in range(9)], 1))\n",
        "\n",
        "    #  Each 3x3 square must contain each number exactly once\n",
        "    for d in range(9):\n",
        "        for x in range(3):\n",
        "            for y in range(3):\n",
        "                solver.add(PbEq([(grid[3*x + i][3*y + j][d], 1) for i in range(3) for j in range(3)], 1))\n",
        "\n",
        "    for i in range(9):\n",
        "        for j in range(9):\n",
        "            for k in range(9):\n",
        "                # Knight's move constraint\n",
        "                for dx, dy in [(-2, -1), (-2, 1), (-1, -2), (-1, 2),\n",
        "                               (1, -2), (1, 2), (2, -1), (2, 1)]:\n",
        "                    if 0 <= i + dx < 9 and 0 <= j + dy < 9:\n",
        "                      solver.add(PbLe([((grid[i][j][k]), 1), ((grid[i + dx][j + dy][k]), 1)], 1))  # Knight move constraint\n",
        "\n",
        "                # # King's move constraint\n",
        "                for a in range(-1,2):\n",
        "                  for b in range(-1,2):\n",
        "                    if abs(a)+abs(b)==2 and i+a<9 and i+a>=0 and j+b<9 and j+b>=0:\n",
        "                      solver.add(PbLe([(grid[i][j][d], 1), (grid[i + a][j + b][d], 1)], 1))\n",
        "\n",
        "                # Consecutive numbers constraint\n",
        "                if k < 8:\n",
        "                    for dx, dy in [(0, 1), (1, 0), (0, -1), (-1, 0)]:\n",
        "                        if 0 <= i + dx < 9 and 0 <= j + dy < 9:\n",
        "                          solver.add(PbLe([(grid[i][j][k], 1), (grid[i + dx][j + dy][k - 1], 1), (grid[i + dx][j + dy][k + 1], 1)], 1))\n",
        "\n",
        "    # Encoding the initial state of the Sudoku puzzle\n",
        "    for i in range(9):\n",
        "        for j in range(9):\n",
        "            if instance[i][j] != 0:\n",
        "                d = instance[i][j] - 1  # Adjusting index for 0-based indexing\n",
        "                solver.add(grid[i][j][d])\n",
        "\n",
        "    if solver.check() == sat:\n",
        "        m = solver.model()\n",
        "        r = [[0 for j in range(9)] for i in range(9)]\n",
        "        for i in range(9):\n",
        "            for j in range(9):\n",
        "                for d in range(9):\n",
        "                    if is_true(m[grid[i][j][d]]):\n",
        "                        r[i][j] = d + 1\n",
        "                        break\n",
        "        print_matrix(r)\n",
        "    else:\n",
        "        print(\"Failed to solve\")\n",
        "\n",
        "instance =((0, 0, 0, 0, 0, 0, 0, 0, 0),\n",
        "            (0, 0, 0, 0, 0, 0, 0, 0, 0),\n",
        "            (0, 0, 0, 0, 0, 0, 0, 0, 0),\n",
        "            (0, 0, 0, 0, 0, 0, 0, 0, 0),\n",
        "            (0, 0, 1, 0, 0, 0, 0, 0, 0),\n",
        "            (0, 0, 0, 0, 0, 0, 2, 0, 0),\n",
        "            (0, 0, 0, 0, 0, 0, 0, 0, 0),\n",
        "            (0, 0, 0, 0, 0, 0, 0, 0, 0),\n",
        "            (0, 0, 0, 0, 0, 0, 0, 0, 0))\n",
        "\n",
        "solve_sudoku_miracle(instance)"
      ],
      "metadata": {
        "id": "E56fFoT7CqpY",
        "colab": {
          "base_uri": "https://localhost:8080/"
        },
        "outputId": "ab561734-8723-41e8-e168-8d9d4f2a16c1"
      },
      "execution_count": null,
      "outputs": [
        {
          "output_type": "stream",
          "name": "stdout",
          "text": [
            "[[4, 8, 3, 7, 2, 6, 1, 5, 9],\n",
            " [7, 2, 6, 1, 5, 9, 4, 8, 3],\n",
            " [1, 5, 9, 4, 8, 3, 7, 2, 6],\n",
            " [8, 3, 7, 2, 6, 1, 5, 9, 4],\n",
            " [2, 6, 1, 5, 9, 4, 8, 3, 7],\n",
            " [5, 9, 4, 8, 3, 7, 2, 6, 1],\n",
            " [3, 7, 2, 6, 1, 5, 9, 4, 8],\n",
            " [6, 1, 5, 9, 4, 8, 3, 7, 2],\n",
            " [9, 4, 8, 3, 7, 2, 6, 1, 5]]\n"
          ]
        }
      ]
    },
    {
      "cell_type": "markdown",
      "source": [
        "\n",
        "\n",
        "---\n",
        "\n",
        "\n",
        "# Propositional Logic\n",
        "\n",
        "Next, we will use truth tables and z3py to prove logical entailment.\n",
        "\n",
        "## Truth Tables\n",
        "\n",
        "Using markdown tables and bold to show relevant rows, use the truth table method to show logical truths.\n",
        "\n",
        "\n",
        "### Example\n",
        "\n",
        "Here's an example that shows $p, p \\rightarrow q \\models q$.  \n",
        "\n",
        "| p | q | p -> q |\n",
        "|-------|-------|---------------------|\n",
        "| **T**     | **T**     | **T**                   |\n",
        "| T     | F     | F                   |\n",
        "| F     | T     | T                   |\n",
        "| F     | F     | T                   |\n",
        "\n",
        "Since $q$ is true whenever $p$ and $p \\rightarrow q$ are true, the expression is true.\n",
        "\n",
        "### Questions\n",
        "\n",
        "Prove that the following semantic entailment expressions are true by using the truth table approach.  Bold the appropriate rows **(1 point)**\n",
        "\n",
        " * $(p\\rightarrow q)\\rightarrow r, s \\rightarrow \\neg p, t, \\neg s, t \\rightarrow q \\models r$\n",
        " * $\\emptyset \\models q \\rightarrow (p \\rightarrow (p \\rightarrow (q \\rightarrow p)))$\n",
        " * $(p\\rightarrow q)\\rightarrow r, s \\rightarrow \\neg p, t, \\neg s, t \\rightarrow q \\models r$"
      ],
      "metadata": {
        "id": "sy985abkCrfR"
      }
    },
    {
      "cell_type": "markdown",
      "source": [
        "(add markdown tables here)"
      ],
      "metadata": {
        "id": "wyZsntivFueN"
      }
    },
    {
      "cell_type": "markdown",
      "source": [
        "| p    |  q |   r| s     |  t   | ~s|(p ->q) ->r| s -> ~p | t->q| r|\n",
        "|--- -| ----|-----|------|------|------|------|------|------|------|\n",
        "|T    | T   | T   |F     |**T** |**T** |**T** |**T** |**T** |**T**\n",
        "| T   | T   | T   |F     |F     |T     |T     |T     |T     |T\n",
        "| T   | T   | F   |T     |T     |F     |F     |F     |T     |F\n",
        "| T   | T   | F   |T     |F     |F     |F     |F     |T     |F\n",
        "| T   | F   | T   |F     |T     |T     |T     |T     |F     |T\n",
        "| T   | F   | T   |F     |F     |T     |T     |T     |T     |T\n",
        "| T   | F   | F   |T     |T     |F     |F     |F     |F     |F\n",
        "| T   | F   | F   |T     |F     |F     |F     |F     |F     |F\n",
        "| F   | T   | T   |F     |**T** |**T** |**T** |**T** |**T** |**T**\n",
        "| F   | T   | T   |F     |F     |T     |T     |T     |T     |T\n",
        "| F   | T   | F   |T     |T     |F     |F     |T     |T     |F\n",
        "| F   | T   | F   |T     |F     |F     |F     |T     |T     |F\n",
        "| F   | F   | T   |F     |**T** |**T** |**T** |**T** |**T** |**T**\n",
        "| F   | F   | T   |F     |F     |T     |T     |T     |T     |T\n",
        "| F   | F   | F   |T     |T     |F     |F     |T     |T     |F\n",
        "| F   | F   | F   |T     |F     |F     |F     |T     |T     |F\n",
        "\n",
        "row 1,9,and 13 are true, therefore its true\n"
      ],
      "metadata": {
        "id": "-pbTfGFVmDWJ"
      }
    },
    {
      "cell_type": "markdown",
      "source": [
        "| p    |  q |   q→(p→(p→(q→p)))|\n",
        "|--- - |----|-----|\n",
        "|T    | T   | **T**   |\n",
        "| T   | F   | **T**   |\n",
        "| F   | T   | **T**   |\n",
        "| F   | F   | **T**   |\n",
        "\n",
        "entailment is true in all case, therefore its true\n"
      ],
      "metadata": {
        "id": "5LbWWh-XKJeB"
      }
    },
    {
      "cell_type": "markdown",
      "source": [
        "\n",
        "\n",
        "---\n",
        "\n",
        "\n",
        " ## Logical Entailment using z3py\n",
        "\n",
        " Use Z3py to prove the above three entailments are true using satisfiability. See section 7.5 in the book for details. **(1 point)**"
      ],
      "metadata": {
        "id": "q7le6n2jFu4l"
      }
    },
    {
      "cell_type": "code",
      "source": [
        "# Q1\n",
        "p, q, r, s, t = Bools('p q r s t')\n",
        "\n",
        "# the 5 expressions\n",
        "ex1 = Implies(Implies(p, q), r)\n",
        "ex2 = Implies(s, Not(p))\n",
        "ex3 = t\n",
        "ex4 = Not(s)\n",
        "ex5 = Implies(t, q)\n",
        "conclusion = r\n",
        "# solve\n",
        "s = Solver()\n",
        "s.add((And(ex1, ex2, ex3, ex4, ex5, Not(conclusion))))\n",
        "\n",
        "if s.check() == unsat:\n",
        "    print(\"Q1 is true.\")\n",
        "else:\n",
        "    print(\"Q1 is not true.\")\n",
        "\n",
        "#Q2\n",
        "ex1 = Implies(q, Implies(p, Implies(p, Implies(q, p))))\n",
        "# solve\n",
        "s = Solver()\n",
        "s.add(Not(Implies(BoolVal(True), ex1)))\n",
        "\n",
        "if s.check() == unsat:\n",
        "    print(\"Q2 is true.\")\n",
        "else:\n",
        "    print(\"Q2 is not true.\")\n",
        "\n"
      ],
      "metadata": {
        "id": "Z80-O6FGDtjp",
        "colab": {
          "base_uri": "https://localhost:8080/"
        },
        "outputId": "e3534f2c-237a-438d-b978-c913274266eb"
      },
      "execution_count": null,
      "outputs": [
        {
          "output_type": "stream",
          "name": "stdout",
          "text": [
            "Q1 is true.\n",
            "Q2 is true.\n"
          ]
        }
      ]
    }
  ],
  "metadata": {
    "kernelspec": {
      "display_name": "Python 3",
      "language": "python",
      "name": "python3"
    },
    "language_info": {
      "codemirror_mode": {
        "name": "ipython",
        "version": 3
      },
      "file_extension": ".py",
      "mimetype": "text/x-python",
      "name": "python",
      "nbconvert_exporter": "python",
      "pygments_lexer": "ipython3",
      "version": "3.8.5"
    },
    "colab": {
      "provenance": []
    }
  },
  "nbformat": 4,
  "nbformat_minor": 0
}